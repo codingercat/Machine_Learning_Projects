{
  "nbformat": 4,
  "nbformat_minor": 0,
  "metadata": {
    "colab": {
      "provenance": [],
      "mount_file_id": "1RfK96HALkRVsgpP4S0GhsnOpqtqycTpw",
      "authorship_tag": "ABX9TyMW0zk0POJSSg4tQhId6S9/",
      "include_colab_link": true
    },
    "kernelspec": {
      "name": "python3",
      "display_name": "Python 3"
    },
    "language_info": {
      "name": "python"
    }
  },
  "cells": [
    {
      "cell_type": "markdown",
      "metadata": {
        "id": "view-in-github",
        "colab_type": "text"
      },
      "source": [
        "<a href=\"https://colab.research.google.com/github/codingercat/machine-learning-projects/blob/main/Minipong.ipynb\" target=\"_parent\"><img src=\"https://colab.research.google.com/assets/colab-badge.svg\" alt=\"Open In Colab\"/></a>"
      ]
    },
    {
      "cell_type": "markdown",
      "source": [
        "# Minipong:\n",
        "In this assignment we work with data and a simulation of a simple version of “pong”.\n",
        "Two objects appear on the field: a + object as “ball”, and a − paddle that can take\n",
        "different spots, but only in the bottom row. Pixels of the two objects are represented\n",
        "with different the values −1 and 1 while background pixels have the value 0. The two\n",
        "markers at the top corners are fixed (−1 and +1, respectively) and appear in every frame.\n",
        "![minipong.png](data:image/png;base64,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)"
      ],
      "metadata": {
        "id": "hzzLkZ-uZ0iI"
      }
    },
    {
      "cell_type": "markdown",
      "source": [
        "**Preparation**:\n",
        "\n",
        "Download the Minipong.py and sprites.py python files. The\n",
        "class Minipong.py implements the pong game simulation. Running sprites.py\n",
        "will create datasets of pong screenshots for your first task.\n",
        "A new pong game can be created like here:\n",
        "from minipong import Minipong\n",
        "pong = Minipong(level=1, size=5)\n",
        "In this, level sets the information a RL agent gets from the environment, and size sets\n",
        "the size of the game (in number of different paddle positions). Both paddle and + are 3\n",
        "pixels wide, and cannot leave the field. A game of size 5 is (15×15) pixels, and the ball\n",
        "x- and y-coordinates can be values between 1 and 13. The paddle can be in 5 different\n",
        "locations (from 0 to 4).\n"
      ],
      "metadata": {
        "id": "f_oy7U4zaMQ7"
      }
    },
    {
      "cell_type": "markdown",
      "source": [
        "**Task 1: Train a CNN to predict object positions**\n",
        "The python program sprites.py creates a training and test set of “minipong” scenes,\n",
        "trainingpix.csv (676 samples) and testingpix.csv (169 samples). Each\n",
        "row represents a 15×15 screenshot (flattened in row-major order). Labels appear in sep\u0002arate files, traininglabels.csv and testlabels.csv. They contain 3 labels\n",
        "for each example (x/y/z), the x/y-coordinates for the + marker with values between 1\n",
        "and 13, and z between 0...4, for the location of the − paddle.\n"
      ],
      "metadata": {
        "id": "nhhNag2Vaky8"
      }
    },
    {
      "cell_type": "markdown",
      "source": [
        "Data Preparation"
      ],
      "metadata": {
        "id": "bQIhT5IV6_bP"
      }
    },
    {
      "cell_type": "code",
      "source": [
        "from google.colab import drive\n",
        "drive.mount('/content/drive')"
      ],
      "metadata": {
        "colab": {
          "base_uri": "https://localhost:8080/"
        },
        "id": "12xbqZPvrde8",
        "outputId": "cab6cbab-87ec-4080-f1a5-1ff37d37476a"
      },
      "execution_count": null,
      "outputs": [
        {
          "output_type": "stream",
          "name": "stdout",
          "text": [
            "Mounted at /content/drive\n"
          ]
        }
      ]
    },
    {
      "cell_type": "code",
      "source": [
        "import os\n",
        "os.chdir('/content/drive/MyDrive/Minipong')"
      ],
      "metadata": {
        "id": "5YBATzmStepA"
      },
      "execution_count": null,
      "outputs": []
    },
    {
      "cell_type": "code",
      "source": [
        "import numpy as np\n",
        "from minipong import Minipong\n",
        "from matplotlib import pyplot as plt"
      ],
      "metadata": {
        "id": "tPAFV0C83Ing"
      },
      "execution_count": null,
      "outputs": []
    },
    {
      "cell_type": "code",
      "source": [
        "size = 5\n",
        "pong = Minipong(level=1, size=size)\n",
        "\n",
        "# create complete dataset\n",
        "rows = pong.xymax * pong.xymax * size\n",
        "columns = pong.size * pong.size\n",
        "\n",
        "allpix = np.zeros((rows, columns), dtype=int)\n",
        "alllabels = np.zeros((rows, 3), dtype=int)\n",
        "j = 0\n",
        "for x in range(1, pong.xymax + 1):\n",
        "    for y in range(1, pong.xymax + 1):\n",
        "        for p in range(pong.zmax + 1):\n",
        "            allpix[j, :] = pong.to_pix((x, y, p, 0, 0)).flatten(order='C')\n",
        "            alllabels[j, :] = [x, y, p]\n",
        "            j += 1\n",
        "\n",
        "# save all pictures and all labels in random order, two separate files\n",
        "np.random.seed(10)\n",
        "neworder = np.random.choice(rows, size=rows, replace=False)\n",
        "allpix = allpix[neworder,:]\n",
        "alllabels = alllabels[neworder, :]\n",
        "np.savetxt('allpix.csv', allpix, delimiter=',', fmt='%d')\n",
        "np.savetxt('alllabels.csv', alllabels, delimiter=',', fmt='%d')\n",
        "\n",
        "for i in range(4):\n",
        "    fig, ax = plt.subplots()\n",
        "    ax.axis(\"off\")\n",
        "    plt.imshow(allpix[10+i,:].reshape(15,15), origin='lower' , cmap=plt.cm.coolwarm)\n",
        "    plt.savefig(f'proto{i+1}.png', dpi=300)\n",
        "    plt.show()\n",
        "\n",
        "\n",
        "# number of training and test samples\n",
        "ntrain = round(0.8 * rows)\n",
        "ntest = rows - ntrain\n",
        "\n",
        "trainingpix = allpix[0:ntrain,:]\n",
        "traininglabels = alllabels[0:ntrain,:]\n",
        "testingpix = allpix[ntrain:,:]\n",
        "testinglabels = alllabels[ntrain:,:]\n",
        "\n",
        "np.savetxt('trainingpix.csv', trainingpix, delimiter=',', fmt='%d')\n",
        "np.savetxt('traininglabels.csv', traininglabels, delimiter=',', fmt='%d')\n",
        "np.savetxt('testingpix.csv', testingpix, delimiter=',', fmt='%d')\n",
        "np.savetxt('testinglabels.csv', testinglabels, delimiter=',', fmt='%d')"
      ],
      "metadata": {
        "colab": {
          "base_uri": "https://localhost:8080/",
          "height": 1000
        },
        "id": "b4ilj1bi3bhO",
        "outputId": "6918b63c-a497-4cc4-e153-3484d8302895"
      },
      "execution_count": null,
      "outputs": [
        {
          "output_type": "display_data",
          "data": {
            "text/plain": [
              "<Figure size 640x480 with 1 Axes>"
            ],
            "image/png": "[encoded data removed]"
          },
          "metadata": {}
        },
        {
          "output_type": "display_data",
          "data": {
            "text/plain": [
              "<Figure size 640x480 with 1 Axes>"
            ],
            "image/png": "[encoded data removed]"
          },
          "metadata": {}
        },
        {
          "output_type": "display_data",
          "data": {
            "text/plain": [
              "<Figure size 640x480 with 1 Axes>"
            ],
            "image/png": "[encoded data removed]"
          },
          "metadata": {}
        },
        {
          "output_type": "display_data",
          "data": {
            "text/plain": [
              "<Figure size 640x480 with 1 Axes>"
            ],
            "image/png": "[encoded data removed]"
          },
          "metadata": {}
        }
      ]
    },
    {
      "cell_type": "markdown",
      "source": [
        "**Implementation**"
      ],
      "metadata": {
        "id": "UoZz-ufs7LHH"
      }
    },
    {
      "cell_type": "code",
      "source": [
        "import pandas as pd\n",
        "import numpy as np\n",
        "import tensorflow as tf\n",
        "from tensorflow.keras import layers, models"
      ],
      "metadata": {
        "id": "EEqg3fGB4Yp3"
      },
      "execution_count": null,
      "outputs": []
    },
    {
      "cell_type": "code",
      "source": [
        "train_data = pd.read_csv('trainingpix.csv')\n",
        "test_data = pd.read_csv('testingpix.csv')\n",
        "train_labels = pd.read_csv('traininglabels.csv')\n",
        "testing_labels = pd.read_csv('testinglabels.csv')"
      ],
      "metadata": {
        "id": "peh8gTWA4cZu"
      },
      "execution_count": null,
      "outputs": []
    },
    {
      "cell_type": "code",
      "source": [
        "# Normalize pixel values\n",
        "train_data = train_data / 255.0\n",
        "test_data = test_data / 255.0\n",
        "\n",
        "# Reshape data (assuming it's flattened)\n",
        "train_data = train_data.values.reshape(-1, 15, 15, 1)\n",
        "test_data = test_data.values.reshape(-1, 15, 15, 1)"
      ],
      "metadata": {
        "id": "3vldVxmu4ebo"
      },
      "execution_count": null,
      "outputs": []
    },
    {
      "cell_type": "code",
      "source": [
        "model = models.Sequential([\n",
        "    layers.Conv2D(32, (3, 3), activation='relu', input_shape=(15, 15, 1)),\n",
        "    layers.MaxPooling2D((2, 2)),\n",
        "    layers.Conv2D(64, (3, 3), activation='relu'),\n",
        "    layers.MaxPooling2D((2, 2)),\n",
        "    layers.Flatten(),\n",
        "    layers.Dense(64, activation='relu'),\n",
        "    layers.Dense(1)  # Output layer with 1 neuron for x-coordinate prediction\n",
        "])\n",
        "\n",
        "model.compile(optimizer='adam',\n",
        "              loss='mean_squared_error',\n",
        "              metrics=['accuracy'])\n"
      ],
      "metadata": {
        "id": "fLV9aJn14nLW"
      },
      "execution_count": null,
      "outputs": []
    },
    {
      "cell_type": "code",
      "source": [
        "print(train_labels.columns)"
      ],
      "metadata": {
        "colab": {
          "base_uri": "https://localhost:8080/"
        },
        "id": "r40afmBi4ph-",
        "outputId": "a8461fab-e64c-43a9-bb3c-eea1dae9a574"
      },
      "execution_count": null,
      "outputs": [
        {
          "output_type": "stream",
          "name": "stdout",
          "text": [
            "Index(['9', '9.1', '4'], dtype='object')\n"
          ]
        }
      ]
    },
    {
      "cell_type": "code",
      "source": [
        "train_labels = pd.read_csv('traininglabels.csv', names=['x', 'y', 'z'])\n",
        "test_labels = pd.read_csv('testinglabels.csv', names=['x', 'y', 'z'])"
      ],
      "metadata": {
        "id": "XFLtndEj5na3"
      },
      "execution_count": null,
      "outputs": []
    },
    {
      "cell_type": "code",
      "source": [
        "print(\"Train data shape:\", train_data.shape)\n",
        "print(\"Train labels shape:\", train_labels['x'].shape)\n",
        "print(\"Test data shape:\", test_data.shape)\n",
        "print(\"Test labels shape:\", test_labels['x'].shape)"
      ],
      "metadata": {
        "colab": {
          "base_uri": "https://localhost:8080/"
        },
        "id": "oRF08bhl5wRn",
        "outputId": "41bae6a9-858e-4805-8643-93d73c1f053c"
      },
      "execution_count": null,
      "outputs": [
        {
          "output_type": "stream",
          "name": "stdout",
          "text": [
            "Train data shape: (675, 15, 15, 1)\n",
            "Train labels shape: (676,)\n",
            "Test data shape: (168, 15, 15, 1)\n",
            "Test labels shape: (169,)\n"
          ]
        }
      ]
    },
    {
      "cell_type": "code",
      "source": [
        "# Trim the last element from train_labels\n",
        "train_labels = train_labels.iloc[:675]\n",
        "\n",
        "# Trim the last element from test_labels\n",
        "test_labels = test_labels.iloc[:168]\n",
        "\n",
        "# Now, the shapes should match\n",
        "print(\"Train data shape:\", train_data.shape)\n",
        "print(\"Train labels shape:\", train_labels['x'].shape)\n",
        "print(\"Test data shape:\", test_data.shape)\n",
        "print(\"Test labels shape:\", test_labels['x'].shape)\n"
      ],
      "metadata": {
        "colab": {
          "base_uri": "https://localhost:8080/"
        },
        "id": "NT3szlP_6kCH",
        "outputId": "4107ddb1-f362-4020-b324-ed908b94df5d"
      },
      "execution_count": null,
      "outputs": [
        {
          "output_type": "stream",
          "name": "stdout",
          "text": [
            "Train data shape: (675, 15, 15, 1)\n",
            "Train labels shape: (675,)\n",
            "Test data shape: (168, 15, 15, 1)\n",
            "Test labels shape: (168,)\n"
          ]
        }
      ]
    },
    {
      "cell_type": "code",
      "source": [
        "model.fit(train_data, train_labels['x'], epochs=20, batch_size=32, validation_data=(test_data, test_labels['x']))"
      ],
      "metadata": {
        "colab": {
          "base_uri": "https://localhost:8080/"
        },
        "id": "lc73pIbu6pZc",
        "outputId": "d29b33f7-25c1-4e7f-a143-cc27d675850c"
      },
      "execution_count": null,
      "outputs": [
        {
          "output_type": "stream",
          "name": "stdout",
          "text": [
            "Epoch 1/20\n",
            "22/22 [==============================] - 1s 33ms/step - loss: 14.3543 - accuracy: 0.0785 - val_loss: 13.9914 - val_accuracy: 0.0714\n",
            "Epoch 2/20\n",
            "22/22 [==============================] - 0s 19ms/step - loss: 14.1175 - accuracy: 0.0785 - val_loss: 13.7505 - val_accuracy: 0.0714\n",
            "Epoch 3/20\n",
            "22/22 [==============================] - 0s 18ms/step - loss: 14.2288 - accuracy: 0.0785 - val_loss: 13.7550 - val_accuracy: 0.0714\n",
            "Epoch 4/20\n",
            "22/22 [==============================] - 0s 17ms/step - loss: 14.2570 - accuracy: 0.0785 - val_loss: 13.7362 - val_accuracy: 0.0714\n",
            "Epoch 5/20\n",
            "22/22 [==============================] - 0s 18ms/step - loss: 14.4905 - accuracy: 0.0785 - val_loss: 13.7376 - val_accuracy: 0.0714\n",
            "Epoch 6/20\n",
            "22/22 [==============================] - 0s 22ms/step - loss: 14.4986 - accuracy: 0.0785 - val_loss: 14.3948 - val_accuracy: 0.0714\n",
            "Epoch 7/20\n",
            "22/22 [==============================] - 0s 18ms/step - loss: 14.2361 - accuracy: 0.0785 - val_loss: 13.9192 - val_accuracy: 0.0714\n",
            "Epoch 8/20\n",
            "22/22 [==============================] - 0s 9ms/step - loss: 14.2156 - accuracy: 0.0785 - val_loss: 14.2888 - val_accuracy: 0.0714\n",
            "Epoch 9/20\n",
            "22/22 [==============================] - 0s 9ms/step - loss: 14.2044 - accuracy: 0.0785 - val_loss: 13.7797 - val_accuracy: 0.0714\n",
            "Epoch 10/20\n",
            "22/22 [==============================] - 0s 9ms/step - loss: 14.2211 - accuracy: 0.0785 - val_loss: 13.8694 - val_accuracy: 0.0714\n",
            "Epoch 11/20\n",
            "22/22 [==============================] - 0s 9ms/step - loss: 14.1747 - accuracy: 0.0785 - val_loss: 13.7371 - val_accuracy: 0.0714\n",
            "Epoch 12/20\n",
            "22/22 [==============================] - 0s 9ms/step - loss: 14.1677 - accuracy: 0.0785 - val_loss: 13.7701 - val_accuracy: 0.0714\n",
            "Epoch 13/20\n",
            "22/22 [==============================] - 0s 9ms/step - loss: 14.3357 - accuracy: 0.0785 - val_loss: 13.7470 - val_accuracy: 0.0714\n",
            "Epoch 14/20\n",
            "22/22 [==============================] - 0s 9ms/step - loss: 14.2478 - accuracy: 0.0785 - val_loss: 14.5028 - val_accuracy: 0.0714\n",
            "Epoch 15/20\n",
            "22/22 [==============================] - 0s 9ms/step - loss: 14.1084 - accuracy: 0.0785 - val_loss: 13.7795 - val_accuracy: 0.0714\n",
            "Epoch 16/20\n",
            "22/22 [==============================] - 0s 10ms/step - loss: 14.2636 - accuracy: 0.0785 - val_loss: 14.2320 - val_accuracy: 0.0714\n",
            "Epoch 17/20\n",
            "22/22 [==============================] - 0s 9ms/step - loss: 14.1977 - accuracy: 0.0785 - val_loss: 13.7389 - val_accuracy: 0.0714\n",
            "Epoch 18/20\n",
            "22/22 [==============================] - 0s 9ms/step - loss: 14.2012 - accuracy: 0.0785 - val_loss: 13.7433 - val_accuracy: 0.0714\n",
            "Epoch 19/20\n",
            "22/22 [==============================] - 0s 9ms/step - loss: 14.1939 - accuracy: 0.0785 - val_loss: 13.8117 - val_accuracy: 0.0714\n",
            "Epoch 20/20\n",
            "22/22 [==============================] - 0s 9ms/step - loss: 14.2539 - accuracy: 0.0785 - val_loss: 14.3325 - val_accuracy: 0.0714\n"
          ]
        },
        {
          "output_type": "execute_result",
          "data": {
            "text/plain": [
              "<keras.src.callbacks.History at 0x7d69d80cb8e0>"
            ]
          },
          "metadata": {},
          "execution_count": 25
        }
      ]
    },
    {
      "cell_type": "code",
      "source": [
        "test_loss, test_acc = model.evaluate(test_data, test_labels['x'])\n",
        "print('Test accuracy:', test_acc)"
      ],
      "metadata": {
        "colab": {
          "base_uri": "https://localhost:8080/"
        },
        "id": "75EGzSHi6saN",
        "outputId": "da066b66-f93a-4591-a19b-fd8dc38ef680"
      },
      "execution_count": null,
      "outputs": [
        {
          "output_type": "stream",
          "name": "stdout",
          "text": [
            "6/6 [==============================] - 0s 4ms/step - loss: 14.3325 - accuracy: 0.0714\n",
            "Test accuracy: 0.0714285746216774\n"
          ]
        }
      ]
    }
  ]
}